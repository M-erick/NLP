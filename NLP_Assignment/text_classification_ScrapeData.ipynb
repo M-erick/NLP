{
 "cells": [
  {
   "attachments": {},
   "cell_type": "markdown",
   "metadata": {},
   "source": [
    "##### CCS/00081/019 SHALLON SAID\n",
    "##### CCS/00009/019 KARIUKI ERICK\n",
    "##### CCS/00190/019 TECLA BIWOTT\n",
    "\n",
    "#### Create a text classification corpus or your choice. Suggestions \n",
    "##### Download reviews from various sites and annotating each review as either positive, negative or neutral sentiment\n",
    "### Web Scraping"
   ]
  },
  {
   "cell_type": "code",
   "execution_count": 1,
   "metadata": {},
   "outputs": [],
   "source": [
    "import requests\n",
    "from bs4 import BeautifulSoup\n",
    "import csv\n",
    "from textblob import TextBlob"
   ]
  },
  {
   "cell_type": "code",
   "execution_count": 2,
   "metadata": {},
   "outputs": [],
   "source": [
    "# movie identifier\n",
    "# Scraping  review data from IDMb movies\n",
    "movies = ['tt0111161', 'tt0068646', 'tt0071562', 'tt0468569', 'tt0050083', 'tt0108052', 'tt0167260', 'tt0110912', 'tt0060196', 'tt0120737']\n"
   ]
  },
  {
   "attachments": {},
   "cell_type": "markdown",
   "metadata": {},
   "source": [
    "#### Scrape data and save output in movie_reviews.csv"
   ]
  },
  {
   "cell_type": "code",
   "execution_count": 3,
   "metadata": {},
   "outputs": [
    {
     "name": "stdout",
     "output_type": "stream",
     "text": [
      "Reviews saved to movie_reviews.csv\n"
     ]
    }
   ],
   "source": [
    "# movie_review.csv file has movie,review and sentiment columns\n",
    "with open('movie_reviews.csv', mode='w', newline='',encoding='utf-8') as file:\n",
    "    writer = csv.writer(file)\n",
    "    writer.writerow(['movie', 'review', 'sentiment'])\n",
    "    for movie in movies:\n",
    "        movie_url = f'https://www.imdb.com/title/{movie}/reviews'\n",
    "        response = requests.get(movie_url)\n",
    "        soup = BeautifulSoup(response.text, 'html.parser')\n",
    "\n",
    "        for review in soup.find_all('div', {'class': 'lister-item-content'}):\n",
    "            text = review.find('div', {'class': 'text'}).text.strip()\n",
    "            sentiment = TextBlob(text).sentiment.polarity\n",
    "            if sentiment > 0:\n",
    "                sentiment = 'positive'\n",
    "            elif sentiment < 0:\n",
    "                sentiment = 'negative'\n",
    "            else:\n",
    "                sentiment = 'neutral'\n",
    "            writer.writerow([movie, text, sentiment])\n",
    "\n",
    "print('Reviews saved to movie_reviews.csv')"
   ]
  },
  {
   "cell_type": "markdown",
   "metadata": {},
   "source": []
  }
 ],
 "metadata": {
  "kernelspec": {
   "display_name": "venv",
   "language": "python",
   "name": "python3"
  },
  "language_info": {
   "codemirror_mode": {
    "name": "ipython",
    "version": 3
   },
   "file_extension": ".py",
   "mimetype": "text/x-python",
   "name": "python",
   "nbconvert_exporter": "python",
   "pygments_lexer": "ipython3",
   "version": "3.9.6"
  },
  "orig_nbformat": 4
 },
 "nbformat": 4,
 "nbformat_minor": 2
}
